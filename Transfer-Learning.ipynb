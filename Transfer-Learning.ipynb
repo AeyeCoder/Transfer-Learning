{
  "cells": [
    {
      "cell_type": "code",
      "source": [
        "import tensorflow as tf\n",
        "from tensorflow.keras.datasets import fashion_mnist\n",
        "from tensorflow.keras.applications import efficientnet,EfficientNetB0\n",
        "\n",
        "(x_train,y_train),(x_val,y_val)=fashion_mnist.load_data()\n",
        "x_train,y_train,x_val,y_val=x_train[:20000],y_train[:20000],x_train[57000:],y_train[57000:]\n",
        "\n",
        "\n",
        "data_augmentation=tf.keras.Sequential([\n",
        "    tf.keras.layers.Resizing(32,32),\n",
        "    tf.keras.layers.RandomRotation(0.1),\n",
        "    tf.keras.layers.RandomFlip(\"horizontal\")\n",
        "])\n",
        "\n",
        "x_train,x_val=x_train/255.0,x_val/255.0\n",
        "x_train,x_val=tf.image.grayscale_to_rgb(tf.expand_dims(x_train,-1)),tf.image.grayscale_to_rgb(tf.expand_dims(x_val,-1))\n",
        "\n",
        "train=(\n",
        "    tf.data.Dataset.from_tensor_slices((x_train,y_train))\n",
        "    .shuffle(10000)\n",
        "    .map(lambda x,y:(data_augmentation(x),y))\n",
        "    .map(lambda x,y:(efficientnet.preprocess_input(x),y))\n",
        "    .batch(32)\n",
        "    .prefetch(tf.data.AUTOTUNE)\n",
        "    )\n",
        "val=(\n",
        "    tf.data.Dataset.from_tensor_slices((x_val,y_val))\n",
        "    .map(lambda x,y:(tf.image.resize(x,[32,32]),y))\n",
        "    .map(lambda x,y:(efficientnet.preprocess_input(x),y))\n",
        "    .batch(32)\n",
        "    .prefetch(tf.data.AUTOTUNE)\n",
        "    )"
      ],
      "metadata": {
        "colab": {
          "base_uri": "https://localhost:8080/"
        },
        "id": "bhQGs6Y-2vpV",
        "outputId": "09a98412-adb2-4407-f79c-8f77855114c2"
      },
      "execution_count": 1,
      "outputs": [
        {
          "output_type": "stream",
          "name": "stdout",
          "text": [
            "Downloading data from https://storage.googleapis.com/tensorflow/tf-keras-datasets/train-labels-idx1-ubyte.gz\n",
            "\u001b[1m29515/29515\u001b[0m \u001b[32m━━━━━━━━━━━━━━━━━━━━\u001b[0m\u001b[37m\u001b[0m \u001b[1m0s\u001b[0m 0us/step\n",
            "Downloading data from https://storage.googleapis.com/tensorflow/tf-keras-datasets/train-images-idx3-ubyte.gz\n",
            "\u001b[1m26421880/26421880\u001b[0m \u001b[32m━━━━━━━━━━━━━━━━━━━━\u001b[0m\u001b[37m\u001b[0m \u001b[1m1s\u001b[0m 0us/step\n",
            "Downloading data from https://storage.googleapis.com/tensorflow/tf-keras-datasets/t10k-labels-idx1-ubyte.gz\n",
            "\u001b[1m5148/5148\u001b[0m \u001b[32m━━━━━━━━━━━━━━━━━━━━\u001b[0m\u001b[37m\u001b[0m \u001b[1m0s\u001b[0m 0us/step\n",
            "Downloading data from https://storage.googleapis.com/tensorflow/tf-keras-datasets/t10k-images-idx3-ubyte.gz\n",
            "\u001b[1m4422102/4422102\u001b[0m \u001b[32m━━━━━━━━━━━━━━━━━━━━\u001b[0m\u001b[37m\u001b[0m \u001b[1m1s\u001b[0m 0us/step\n"
          ]
        }
      ]
    },
    {
      "cell_type": "code",
      "source": [
        "model=EfficientNetB0(weights=None,include_top=False)\n",
        "out=tf.keras.layers.Conv2D(10,kernel_size=1,activation=\"softmax\")(model.output)\n",
        "gb=tf.keras.layers.GlobalAveragePooling2D()(out)\n",
        "model=tf.keras.Model(inputs=model.input,outputs=gb)\n",
        "\n",
        "model.compile(optimizer=\"nadam\",loss=\"sparse_categorical_crossentropy\",metrics=[\"accuracy\"])\n",
        "\n",
        "history=model.fit(train,validation_data=val,epochs=5)"
      ],
      "metadata": {
        "colab": {
          "base_uri": "https://localhost:8080/"
        },
        "id": "NruBL33V2vnM",
        "outputId": "549bcce3-29f9-42d3-e745-b39efe491fc9"
      },
      "execution_count": 2,
      "outputs": [
        {
          "output_type": "stream",
          "name": "stdout",
          "text": [
            "Epoch 1/5\n",
            "\u001b[1m625/625\u001b[0m \u001b[32m━━━━━━━━━━━━━━━━━━━━\u001b[0m\u001b[37m\u001b[0m \u001b[1m129s\u001b[0m 52ms/step - accuracy: 0.3899 - loss: 1.7335 - val_accuracy: 0.2260 - val_loss: 2.6944\n",
            "Epoch 2/5\n",
            "\u001b[1m625/625\u001b[0m \u001b[32m━━━━━━━━━━━━━━━━━━━━\u001b[0m\u001b[37m\u001b[0m \u001b[1m13s\u001b[0m 20ms/step - accuracy: 0.6866 - loss: 0.8668 - val_accuracy: 0.7640 - val_loss: 0.6233\n",
            "Epoch 3/5\n",
            "\u001b[1m625/625\u001b[0m \u001b[32m━━━━━━━━━━━━━━━━━━━━\u001b[0m\u001b[37m\u001b[0m \u001b[1m13s\u001b[0m 20ms/step - accuracy: 0.7371 - loss: 0.7337 - val_accuracy: 0.7570 - val_loss: 0.6752\n",
            "Epoch 4/5\n",
            "\u001b[1m625/625\u001b[0m \u001b[32m━━━━━━━━━━━━━━━━━━━━\u001b[0m\u001b[37m\u001b[0m \u001b[1m13s\u001b[0m 20ms/step - accuracy: 0.7338 - loss: 0.7874 - val_accuracy: 0.6600 - val_loss: 0.9163\n",
            "Epoch 5/5\n",
            "\u001b[1m625/625\u001b[0m \u001b[32m━━━━━━━━━━━━━━━━━━━━\u001b[0m\u001b[37m\u001b[0m \u001b[1m13s\u001b[0m 20ms/step - accuracy: 0.7073 - loss: 0.8452 - val_accuracy: 0.7620 - val_loss: 0.6372\n"
          ]
        }
      ]
    }
  ],
  "metadata": {
    "colab": {
      "provenance": [],
      "gpuType": "A100",
      "machine_shape": "hm"
    },
    "kernelspec": {
      "display_name": "Python 3",
      "name": "python3"
    },
    "accelerator": "GPU"
  },
  "nbformat": 4,
  "nbformat_minor": 0
}